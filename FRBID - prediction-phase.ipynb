{
 "cells": [
  {
   "cell_type": "markdown",
   "metadata": {},
   "source": [
    "# FRBID prediction phase on new candidate files\n",
    "\n",
    "    Authors : Zafiirah Hosenie\n",
    "    Email : zafiirah.hosenie@gmail.com or zafiirah.hosenie@postgrad.manchester.ac.uk\n",
    "    Affiliation : The University of Manchester, UK.\n",
    "    License : MIT\n",
    "    Status : Under Development\n",
    "    Description : Python implementation for FRBID: Fast Radio Burst Intelligent Distinguisher.\n",
    "    This code is tested in Python 3 version 3.6\n"
   ]
  },
  {
   "cell_type": "code",
   "execution_count": 1,
   "metadata": {},
   "outputs": [
    {
     "name": "stderr",
     "output_type": "stream",
     "text": [
      "Using TensorFlow backend.\n"
     ]
    }
   ],
   "source": [
    "import warnings\n",
    "warnings.filterwarnings(\"ignore\")\n",
    "import os\n",
    "import numpy as np\n",
    "import pandas as pd\n",
    "from FRBID_code.model import compile_model,model_save \n",
    "import matplotlib.pylab as plt\n",
    "from keras.utils import np_utils\n",
    "from time import gmtime, strftime\n",
    "from FRBID_code.util import makedirs, ensure_dir\n",
    "from FRBID_code.prediction_phase import load_candidate, FRB_prediction\n"
   ]
  },
  {
   "cell_type": "code",
   "execution_count": 2,
   "metadata": {},
   "outputs": [],
   "source": [
    "# Parameters to change\n",
    "data_dir = './data/test_set/' # The directory where the hdf5 candidates are located\n",
    "result_dir = './data/results_csv/' # The directory where the csv file after prediction will be saved\n",
    "n_images = 'dm_fq_time' #can take str as either 'dm_fq_time' or 'dm_time' or 'fq_time'\n",
    "model_cnn_name = 'NET3' # The network name choose from: 'NET1_32_64','NET1_64_128','NET1_128_256','NET2','NET3'\n",
    "probability = 0.5 # The detection threshold"
   ]
  },
  {
   "cell_type": "markdown",
   "metadata": {},
   "source": [
    "# Load the new candidates\n",
    "- data_dir: The directory that contains the hdf5 files\n",
    "- n_images: can either take str 'dm_fq_time', 'dm_time', 'fq_time'"
   ]
  },
  {
   "cell_type": "code",
   "execution_count": 3,
   "metadata": {},
   "outputs": [
    {
     "name": "stdout",
     "output_type": "stream",
     "text": [
      "Total number of candidate instances: 2806\n",
      "The Shape of the test set is (2806, 256, 256, 2)\n"
     ]
    }
   ],
   "source": [
    "test, ID_test = load_candidate(data_dir=data_dir ,n_images=n_images)\n",
    "print(\"Total number of candidate instances: {}\".format(str(len(ID_test))))\n",
    "print(\"The Shape of the test set is {}\".format(test.shape))"
   ]
  },
  {
   "cell_type": "markdown",
   "metadata": {},
   "source": [
    "# Prediction on new candidate files\n",
    "Here we will load the pre-existing train model using the parameter \n",
    "INPUT:\n",
    "- model_name: 'NET1_32_64', 'NET1_64_128', 'NET1_128_256', 'NET2', 'NET3'\n",
    "- X_test : Image data should have shape (Nimages,256,256,2), (Nimages,256,256,1). This will vary depending on the criteria one use for n_images.\n",
    "- ID: The candidate filename\n",
    "- result_dir: The directory to save the csv prediction file\n",
    "\n",
    "OUTPUT:\n",
    "- overall_real_prob: An array of probability that each source is FRB. Value will range between [0 to 1.0]\n",
    "- overall_dataframe: A table with column candidate name of all sources and its associated probability that it is a FRB source and its labels\n"
   ]
  },
  {
   "cell_type": "code",
   "execution_count": 4,
   "metadata": {},
   "outputs": [
    {
     "name": "stdout",
     "output_type": "stream",
     "text": [
      "WARNING:tensorflow:From /home/hosenie/.conda/envs/frbrfi/lib/python3.6/site-packages/keras/backend/tensorflow_backend.py:1255: calling reduce_prod (from tensorflow.python.ops.math_ops) with keep_dims is deprecated and will be removed in a future version.\n",
      "Instructions for updating:\n",
      "keep_dims is deprecated, use keepdims instead\n",
      "Loaded model:NET3 from disk\n",
      "2806/2806 [==============================] - 5s 2ms/step\n"
     ]
    }
   ],
   "source": [
    "overall_real_prob, overall_dataframe = FRB_prediction(model_name=model_cnn_name, X_test=test,ID=ID_test,result_dir=result_dir,probability=probability)\n"
   ]
  },
  {
   "cell_type": "code",
   "execution_count": 5,
   "metadata": {},
   "outputs": [
    {
     "data": {
      "text/plain": [
       "array(['0.015924_DM_221.96_beam_1C2020_02_02_11:55:53.fil.hdf5',\n",
       "       '0.016748_DM_430.23_beam_0I2020_01_12_23:36:46.fil.hdf5',\n",
       "       '0.018379_DM_148.90_beam_2C2020_02_14_04:34:59.fil.hdf5', ...,\n",
       "       '0.994279_DM_271.08_beam_34C2019_12_18_08:41:48.fil.hdf5',\n",
       "       '0.994432_DM_93.94_beam_0C2020_04_19_18:42:44.fil.hdf5',\n",
       "       '0.999174_DM_36.23_beam_0I2020_04_13_01:04:46.fil.hdf5'],\n",
       "      dtype='<U59')"
      ]
     },
     "execution_count": 5,
     "metadata": {},
     "output_type": "execute_result"
    }
   ],
   "source": [
    "# The transient ID for each candidate\n",
    "ID_test"
   ]
  },
  {
   "cell_type": "code",
   "execution_count": 6,
   "metadata": {},
   "outputs": [
    {
     "data": {
      "text/plain": [
       "array([2.0953923e-06, 6.0713518e-04, 2.0273919e-04, ..., 3.6335757e-04,\n",
       "       9.9999952e-01, 1.9407138e-02], dtype=float32)"
      ]
     },
     "execution_count": 6,
     "metadata": {},
     "output_type": "execute_result"
    }
   ],
   "source": [
    "# The probability that each source is a real source: It varies from 0 to 1\n",
    "overall_real_prob"
   ]
  },
  {
   "cell_type": "code",
   "execution_count": 7,
   "metadata": {},
   "outputs": [
    {
     "data": {
      "text/html": [
       "<div>\n",
       "<style scoped>\n",
       "    .dataframe tbody tr th:only-of-type {\n",
       "        vertical-align: middle;\n",
       "    }\n",
       "\n",
       "    .dataframe tbody tr th {\n",
       "        vertical-align: top;\n",
       "    }\n",
       "\n",
       "    .dataframe thead th {\n",
       "        text-align: right;\n",
       "    }\n",
       "</style>\n",
       "<table border=\"1\" class=\"dataframe\">\n",
       "  <thead>\n",
       "    <tr style=\"text-align: right;\">\n",
       "      <th></th>\n",
       "      <th>candidate</th>\n",
       "      <th>probability</th>\n",
       "      <th>label</th>\n",
       "    </tr>\n",
       "  </thead>\n",
       "  <tbody>\n",
       "    <tr>\n",
       "      <th>1900</th>\n",
       "      <td>0.500004_DM_238.23_beam_0C2020_04_11_21:37:49....</td>\n",
       "      <td>1.000000</td>\n",
       "      <td>1.0</td>\n",
       "    </tr>\n",
       "    <tr>\n",
       "      <th>1901</th>\n",
       "      <td>0.500004_DM_238.85_beam_0C2020_04_11_21:33:08....</td>\n",
       "      <td>1.000000</td>\n",
       "      <td>1.0</td>\n",
       "    </tr>\n",
       "    <tr>\n",
       "      <th>1902</th>\n",
       "      <td>0.500004_DM_241.30_beam_0C2020_04_12_04:29:27....</td>\n",
       "      <td>1.000000</td>\n",
       "      <td>1.0</td>\n",
       "    </tr>\n",
       "    <tr>\n",
       "      <th>1903</th>\n",
       "      <td>0.500004_DM_241.30_beam_0C2020_04_12_04:32:15....</td>\n",
       "      <td>0.999996</td>\n",
       "      <td>1.0</td>\n",
       "    </tr>\n",
       "    <tr>\n",
       "      <th>1904</th>\n",
       "      <td>0.500004_DM_241.30_beam_0C2020_04_12_04:54:33....</td>\n",
       "      <td>0.999998</td>\n",
       "      <td>1.0</td>\n",
       "    </tr>\n",
       "    <tr>\n",
       "      <th>...</th>\n",
       "      <td>...</td>\n",
       "      <td>...</td>\n",
       "      <td>...</td>\n",
       "    </tr>\n",
       "    <tr>\n",
       "      <th>2801</th>\n",
       "      <td>0.993664_DM_69.38_beam_7C2020_02_02_04:26:37.f...</td>\n",
       "      <td>0.000183</td>\n",
       "      <td>0.0</td>\n",
       "    </tr>\n",
       "    <tr>\n",
       "      <th>2802</th>\n",
       "      <td>0.993667_DM_2737.80_beam_195C2020_05_31_18:22:...</td>\n",
       "      <td>0.000014</td>\n",
       "      <td>0.0</td>\n",
       "    </tr>\n",
       "    <tr>\n",
       "      <th>2803</th>\n",
       "      <td>0.994279_DM_271.08_beam_34C2019_12_18_08:41:48...</td>\n",
       "      <td>0.000363</td>\n",
       "      <td>0.0</td>\n",
       "    </tr>\n",
       "    <tr>\n",
       "      <th>2804</th>\n",
       "      <td>0.994432_DM_93.94_beam_0C2020_04_19_18:42:44.f...</td>\n",
       "      <td>1.000000</td>\n",
       "      <td>1.0</td>\n",
       "    </tr>\n",
       "    <tr>\n",
       "      <th>2805</th>\n",
       "      <td>0.999174_DM_36.23_beam_0I2020_04_13_01:04:46.f...</td>\n",
       "      <td>0.019407</td>\n",
       "      <td>0.0</td>\n",
       "    </tr>\n",
       "  </tbody>\n",
       "</table>\n",
       "<p>906 rows × 3 columns</p>\n",
       "</div>"
      ],
      "text/plain": [
       "                                              candidate  probability  label\n",
       "1900  0.500004_DM_238.23_beam_0C2020_04_11_21:37:49....     1.000000    1.0\n",
       "1901  0.500004_DM_238.85_beam_0C2020_04_11_21:33:08....     1.000000    1.0\n",
       "1902  0.500004_DM_241.30_beam_0C2020_04_12_04:29:27....     1.000000    1.0\n",
       "1903  0.500004_DM_241.30_beam_0C2020_04_12_04:32:15....     0.999996    1.0\n",
       "1904  0.500004_DM_241.30_beam_0C2020_04_12_04:54:33....     0.999998    1.0\n",
       "...                                                 ...          ...    ...\n",
       "2801  0.993664_DM_69.38_beam_7C2020_02_02_04:26:37.f...     0.000183    0.0\n",
       "2802  0.993667_DM_2737.80_beam_195C2020_05_31_18:22:...     0.000014    0.0\n",
       "2803  0.994279_DM_271.08_beam_34C2019_12_18_08:41:48...     0.000363    0.0\n",
       "2804  0.994432_DM_93.94_beam_0C2020_04_19_18:42:44.f...     1.000000    1.0\n",
       "2805  0.999174_DM_36.23_beam_0I2020_04_13_01:04:46.f...     0.019407    0.0\n",
       "\n",
       "[906 rows x 3 columns]"
      ]
     },
     "execution_count": 7,
     "metadata": {},
     "output_type": "execute_result"
    }
   ],
   "source": [
    "# A dataframe that contains the transient ID and its probability that it is a Real source\n",
    "overall_dataframe.iloc[1900:,:]"
   ]
  },
  {
   "cell_type": "code",
   "execution_count": null,
   "metadata": {},
   "outputs": [],
   "source": []
  }
 ],
 "metadata": {
  "kernelspec": {
   "display_name": "Python 3",
   "language": "python",
   "name": "python3"
  },
  "language_info": {
   "codemirror_mode": {
    "name": "ipython",
    "version": 3
   },
   "file_extension": ".py",
   "mimetype": "text/x-python",
   "name": "python",
   "nbconvert_exporter": "python",
   "pygments_lexer": "ipython3",
   "version": "3.6.10"
  }
 },
 "nbformat": 4,
 "nbformat_minor": 2
}
